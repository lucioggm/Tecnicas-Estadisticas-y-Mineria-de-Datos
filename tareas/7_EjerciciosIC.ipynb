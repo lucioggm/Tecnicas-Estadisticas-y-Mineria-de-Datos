{
  "cells": [
    {
      "cell_type": "markdown",
      "source": [
        "# Tarea. Intervalos de confianza:\n",
        "\n",
        "Luciano Gustavo González Muñoz"
      ],
      "metadata": {
        "id": "a-w56q2YqxEn"
      }
    },
    {
      "cell_type": "markdown",
      "source": [
        "\n",
        "**Ejercicio** En una encuesta de una Universidad, 225 estudiantes son seleccionados al azar de los que toman cálculo y se les pregunta si cálculo es su materia favorita. 100 estudiantes responden que el cálculo es su materia favorita. Proporcione un intervalo de confianza del 95 %  para la proporción de todos los estudiantes que toman cálculo y que la consideran su materia favorita.  "
      ],
      "metadata": {
        "id": "J1xikyQTg1CV"
      }
    },
    {
      "cell_type": "code",
      "source": [
        "import numpy as np\n",
        "import matplotlib.pyplot as plt\n",
        "import scipy.stats as st\n",
        "\n",
        "# Datos\n",
        "n = 225\n",
        "x = 100  # estudiantes que dicen que cálculo es su materia favorita\n",
        "confianza = 0.95\n",
        "\n",
        "# Proporción muestral\n",
        "p_hat = x / n\n",
        "\n",
        "# Error estándar\n",
        "se = np.sqrt(p_hat * (1 - p_hat) / n)\n",
        "\n",
        "# Valor z\n",
        "z = st.norm.ppf(1 - (1 - confianza) / 2)\n",
        "\n",
        "# Margen de error\n",
        "margen_error = z * se\n",
        "\n",
        "# Intervalo de confianza\n",
        "limite_inferior = p_hat - margen_error\n",
        "limite_superior = p_hat + margen_error\n",
        "\n",
        "print(f\"Proporción muestral: {p_hat:.4f}\")\n",
        "print(f\"Error estándar: {se:.4f}\")\n",
        "print(f\"Margen de error (95%): {margen_error:.4f}\")\n",
        "print(f\"Intervalo de confianza del 95%: ({limite_inferior:.4f}, {limite_superior:.4f})\")\n"
      ],
      "metadata": {
        "id": "j5Atce_Jg4X6",
        "outputId": "3dc185fe-122b-47a1-9cdc-4c5eb5d98872",
        "colab": {
          "base_uri": "https://localhost:8080/"
        }
      },
      "execution_count": 1,
      "outputs": [
        {
          "output_type": "stream",
          "name": "stdout",
          "text": [
            "Proporción muestral: 0.4444\n",
            "Error estándar: 0.0331\n",
            "Margen de error (95%): 0.0649\n",
            "Intervalo de confianza del 95%: (0.3795, 0.5094)\n"
          ]
        }
      ]
    },
    {
      "cell_type": "markdown",
      "source": [
        "\n",
        "**Ejercicio** Los datos $1.2,\\ 2.1,\\ 2.3,\\ 1.9,\\ 3.0,\\ 1.5,\\ 2.8,\\ 2.4,\\ 1.7,\\ 2.6,\\ 2.0,\\ 1.8,\\ 3.1,\\ 2.2,\\ 2.5$ se toman a partir de una distribución normal $N(\\mu,\\sigma^2)$ con $\\mu$ desconocida.\n",
        "\n",
        "**a)** Encuentra un intervalo de confianza al nivel de $90\\%$ para $\\mu$, dado que $\\sigma =2$.\n",
        "\n",
        "**b)** Encuentra un intervalo de confianza al nivel de $90\\%$ para $\\mu$.\n",
        "\n",
        "**c)** Encuentra un intervalo de confianza al nivel de $90\\%$ para $\\sigma^2$.\n",
        "     "
      ],
      "metadata": {
        "id": "QlCKxhOkg1E4"
      }
    },
    {
      "cell_type": "code",
      "source": [
        "import numpy as np\n",
        "import scipy.stats as st\n",
        "\n",
        "# Datos\n",
        "data = [1.2, 2.1, 2.3, 1.9, 3.0, 1.5, 2.8, 2.4, 1.7, 2.6, 2.0, 1.8, 3.1, 2.2, 2.5]\n",
        "n = len(data)\n",
        "gl = n - 1\n",
        "confianza = 0.90\n",
        "\n",
        "# a)\n",
        "sigma = 2\n",
        "media = np.mean(data)\n",
        "error_estandar = sigma / np.sqrt(n)\n",
        "z = st.norm.ppf(1 - (1 - confianza) / 2)\n",
        "margen_error = z * error_estandar\n",
        "\n",
        "limite_inferior = media - margen_error\n",
        "limite_superior = media + margen_error\n",
        "\n",
        "print(\"a)\")\n",
        "print(f\"Media: {media:.4f}\")\n",
        "print(f\"Z: {z:.4f}\")\n",
        "print(f\"Error estándar: {error_estandar:.4f}\")\n",
        "print(f\"Intervalo de confianza al 90% para μ: ({limite_inferior:.4f}, {limite_superior:.4f})\\n\")\n",
        "\n",
        "# b)\n",
        "media = np.mean(data)\n",
        "error_est = st.sem(data)\n",
        "t = st.t.ppf(1 - (1 - confianza) / 2, gl)\n",
        "margen_error = t * error_est\n",
        "\n",
        "limite_inferior = media - margen_error\n",
        "limite_superior = media + margen_error\n",
        "\n",
        "print(\"b)\")\n",
        "print(f\"Media: {media:.4f}\")\n",
        "print(f\"t({gl} gl): {t:.4f}\")\n",
        "print(f\"Error estándar: {error_est:.4f}\")\n",
        "print(f\"Intervalo de confianza al 90% para μ: ({limite_inferior:.4f}, {limite_superior:.4f})\\n\")\n",
        "\n",
        "# c)\n",
        "s2 = np.var(data, ddof=1)\n",
        "\n",
        "chi2_inf = st.chi2.ppf((1 - confianza) / 2, gl)\n",
        "chi2_sup = st.chi2.ppf(1 - (1 - confianza) / 2, gl)\n",
        "\n",
        "lim_inf = (gl * s2) / chi2_sup\n",
        "lim_sup = (gl * s2) / chi2_inf\n",
        "\n",
        "print(\"c)\")\n",
        "print(f\"Varianza muestral s²: {s2:.4f}\")\n",
        "print(f\"χ² inferior ({gl} gl): {chi2_inf:.4f}\")\n",
        "print(f\"χ² superior ({gl} gl): {chi2_sup:.4f}\")\n",
        "print(f\"Intervalo de confianza al 90% para σ²: ({lim_inf:.4f}, {lim_sup:.4f})\")\n",
        "\n",
        "\n"
      ],
      "metadata": {
        "id": "dRJEwO-og8HX",
        "outputId": "3d147cbf-1fa9-4b55-f183-69d9bd71e0ec",
        "colab": {
          "base_uri": "https://localhost:8080/"
        }
      },
      "execution_count": 2,
      "outputs": [
        {
          "output_type": "stream",
          "name": "stdout",
          "text": [
            "a)\n",
            "Media: 2.2067\n",
            "Z: 1.6449\n",
            "Error estándar: 0.5164\n",
            "Intervalo de confianza al 90% para μ: (1.3573, 3.0561)\n",
            "\n",
            "b)\n",
            "Media: 2.2067\n",
            "t(14 gl): 1.7613\n",
            "Error estándar: 0.1406\n",
            "Intervalo de confianza al 90% para μ: (1.9591, 2.4542)\n",
            "\n",
            "c)\n",
            "Varianza muestral s²: 0.2964\n",
            "χ² inferior (14 gl): 6.5706\n",
            "χ² superior (14 gl): 23.6848\n",
            "Intervalo de confianza al 90% para σ²: (0.1752, 0.6315)\n"
          ]
        }
      ]
    },
    {
      "cell_type": "markdown",
      "source": [
        "\n",
        "**Ejercicio** Los ingresos semanales promedio de las personas que trabajan en varias industrias aparecieron en el *The New York Times 1988 Almanac*.  \n",
        "Esos ingresos para quienes trabajan en los servicios fueron de $\\$369$. Suponga que este resultado se basó en una muestra de 250 personas dedicadas a los servicios y que la desviación estándar de la muestra fue de $\\$50$. Calcula el intervalo de confianza del 95% para la media de la población de ingresos semanales de personas que trabajan en los servicios.\n"
      ],
      "metadata": {
        "id": "H-0tG2R5g1Hi"
      }
    },
    {
      "cell_type": "code",
      "source": [
        "import numpy as np\n",
        "import scipy.stats as st\n",
        "\n",
        "# Datos\n",
        "media_muestral = 369\n",
        "s = 50\n",
        "n = 250\n",
        "confianza = 0.95\n",
        "gl = n - 1\n",
        "\n",
        "# Error estándar\n",
        "error_estandar = s / np.sqrt(n)\n",
        "\n",
        "t = st.t.ppf(1 - (1 - confianza) / 2, gl)\n",
        "\n",
        "# Margen de error\n",
        "margen_error = t * error_estandar\n",
        "\n",
        "# Intervalo de confianza\n",
        "limite_inferior = media_muestral - margen_error\n",
        "limite_superior = media_muestral + margen_error\n",
        "\n",
        "# Resultados\n",
        "print(f\"Media muestral: ${media_muestral}\")\n",
        "print(f\"Desviación estándar: ${s}\")\n",
        "print(f\"Error estándar: ${error_estandar:.2f}\")\n",
        "print(f\"Valor t ({gl} gl): {t:.4f}\")\n",
        "print(f\"Margen de error: ${margen_error:.2f}\")\n",
        "print(f\"Intervalo de confianza al 95%: (${limite_inferior:.2f}, ${limite_superior:.2f})\")\n"
      ],
      "metadata": {
        "id": "S-lMr22yg_FL",
        "outputId": "be02afbb-68db-4a17-d8f2-8ed2cf8530dc",
        "colab": {
          "base_uri": "https://localhost:8080/"
        }
      },
      "execution_count": 3,
      "outputs": [
        {
          "output_type": "stream",
          "name": "stdout",
          "text": [
            "Media muestral: $369\n",
            "Desviación estándar: $50\n",
            "Error estándar: $3.16\n",
            "Valor t (249 gl): 1.9695\n",
            "Margen de error: $6.23\n",
            "Intervalo de confianza al 95%: ($362.77, $375.23)\n"
          ]
        }
      ]
    },
    {
      "cell_type": "markdown",
      "source": [
        "\n",
        "**Ejercicio** En un estudio de préstamos a estudiantes, el Departamento de Educación informó que los beneficiarios del fondo Stafford Loan deberían un promedio de \\$12,658 al recibirse (*USA Today*, 5 de abril de 1995). Suponga que este promedio de deuda se basa en una muestra de 480 préstamos a estudiantes y que la desviación estándar de la población de las deudas al recibirse es \\$2,000.\n",
        "\n",
        "**a)** Determina un estimado de confianza del **90%** del promedio poblacional de la deuda.\n",
        "\n",
        "**b)** Determina un estimado de confianza del **95%** del promedio poblacional de la deuda.\n",
        "\n",
        "**c)** Determina un estimado de confianza del **99%** del promedio poblacional de la deuda.\n",
        "\n",
        "**d)** Describe lo que sucede con el **ancho del intervalo de confianza** a medida que se **aumenta el nivel de confianza**. ¿Parece razonable? Explica tu respuesta.\n"
      ],
      "metadata": {
        "id": "vTkv7UHlg1Vr"
      }
    },
    {
      "cell_type": "code",
      "source": [
        "import numpy as np\n",
        "import scipy.stats as st\n",
        "\n",
        "# Datos generales\n",
        "media_muestral = 12658\n",
        "n = 480\n",
        "sigma = 2000\n",
        "error_estandar = sigma / np.sqrt(n)\n",
        "\n",
        "print(f\"Error estándar: {error_estandar:.2f}\")\n",
        "\n",
        "# a)\n",
        "confianza_90 = 0.90\n",
        "z_90 = st.norm.ppf(1 - (1 - confianza_90) / 2)\n",
        "margen_90 = z_90 * error_estandar\n",
        "limite_inf_90 = media_muestral - margen_90\n",
        "limite_sup_90 = media_muestral + margen_90\n",
        "print(f\"\\na) Intervalo de confianza del 90%: ({limite_inf_90:.2f}, {limite_sup_90:.2f})\")\n",
        "\n",
        "# b)\n",
        "confianza_95 = 0.95\n",
        "z_95 = st.norm.ppf(1 - (1 - confianza_95) / 2)\n",
        "margen_95 = z_95 * error_estandar\n",
        "limite_inf_95 = media_muestral - margen_95\n",
        "limite_sup_95 = media_muestral + margen_95\n",
        "print(f\"\\nb) Intervalo de confianza del 95%: ({limite_inf_95:.2f}, {limite_sup_95:.2f})\")\n",
        "\n",
        "# c)\n",
        "confianza_99 = 0.99\n",
        "z_99 = st.norm.ppf(1 - (1 - confianza_99) / 2)\n",
        "margen_99 = z_99 * error_estandar\n",
        "limite_inf_99 = media_muestral - margen_99\n",
        "limite_sup_99 = media_muestral + margen_99\n",
        "print(f\"\\nc) Intervalo de confianza del 99%: ({limite_inf_99:.2f}, {limite_sup_99:.2f})\")\n",
        "\n",
        "# d)\n",
        "print(\"\\nd) El intervalo se hace mas apmplio al aumentar el nivel de confianza, es decir, que se tiene que hace mas grande el rango para que el valor tenga mas posibilidades de estar dentro, es decir, se abarcan mas valores dentro del intervalo.\")\n",
        "\n"
      ],
      "metadata": {
        "id": "2OglDddihCro",
        "outputId": "5433def3-5437-41dd-a023-992843815bd5",
        "colab": {
          "base_uri": "https://localhost:8080/"
        }
      },
      "execution_count": 4,
      "outputs": [
        {
          "output_type": "stream",
          "name": "stdout",
          "text": [
            "Error estándar: 91.29\n",
            "\n",
            "a) Intervalo de confianza del 90%: (12507.85, 12808.15)\n",
            "\n",
            "b) Intervalo de confianza del 95%: (12479.08, 12836.92)\n",
            "\n",
            "c) Intervalo de confianza del 99%: (12422.86, 12893.14)\n",
            "\n",
            "d) El intervalo se hace mas apmplio al aumentar el nivel de confianza, es decir, que se tiene que hace mas grande el rango para que el valor tenga mas posibilidades de estar dentro, es decir, se abarcan mas valores dentro del intervalo.\n"
          ]
        }
      ]
    },
    {
      "cell_type": "markdown",
      "source": [
        "\n",
        "**Ejercicio** La encuesta anual de calidad de automóviles, efectuada por *J. D. Power & Associates*, determinó que la cantidad promedio de defectos, en todas las marcas, por cada vehículo nuevo es **1.07**  (*The Wall Street Journal*, 27 de enero de 1994). Suponga que se toma una muestra de **30 automóviles nuevos** de determinada marca y se obtienen las siguientes cantidades de defectos por vehículo:\n",
        "$$ 0, 1, 1, 2, 1, 0, 2, 3, 2, 1, 0, 2, 0, 0, 2, 3, 0, 4, 3, 1, 1, 1, 0, 2, 0, 2, 0, 3, 1, 0 $$\n",
        "\n",
        "**a)** ¿Cuál es el promedio muestral de la cantidad de defectos por vehículo?\n",
        "\n",
        "**b)** ¿Cuál es la desviación estándar de la muestra?\n",
        "\n",
        "**c)** Determine un intervalo de confianza del 95% para la **media de defectos** por vehículo de esta marca.\n",
        "\n",
        "**d)** Un analista sugirió que se debería **revisar una muestra mayor** antes de comparar con el promedio general de J.D. Power (1.07). ¿Respalda usted esta idea? ¿Por qué?\n"
      ],
      "metadata": {
        "id": "Q603U8D3g1Yf"
      }
    },
    {
      "cell_type": "code",
      "source": [
        "import numpy as np\n",
        "import scipy.stats as st\n",
        "\n",
        "# Datos\n",
        "defectos = [0, 1, 1, 2, 1, 0, 2, 3, 2, 1, 0, 2, 0, 0, 2, 3, 0, 4, 3, 1, 1, 1, 0, 2, 0, 2, 0, 3, 1, 0]\n",
        "n = len(defectos)\n",
        "\n",
        "# a)\n",
        "media_muestral = np.mean(defectos)\n",
        "print(f\"a) Promedio muestral de defectos por vehículo: {media_muestral:.2f}\")\n",
        "\n",
        "# b)\n",
        "desviacion_estandar = np.std(defectos, ddof=1)\n",
        "print(f\"b) Desviación estándar de la muestra: {desviacion_estandar:.2f}\")\n",
        "\n",
        "# c) I\n",
        "confianza = 0.95\n",
        "gl = n - 1  # grados de libertad\n",
        "t_critico = st.t.ppf(1 - (1 - confianza) / 2, gl)  # t crítico para 95% de confianza\n",
        "error_estandar = desviacion_estandar / np.sqrt(n)\n",
        "margen_error = t_critico * error_estandar\n",
        "limite_inferior = media_muestral - margen_error\n",
        "limite_superior = media_muestral + margen_error\n",
        "print(f\"c) Intervalo de confianza del 95% para la media de defectos por vehículo: ({limite_inferior:.2f}, {limite_superior:.2f})\")\n",
        "\n",
        "# d)\n",
        "\n",
        "print(\"Si, ya que son pocos datos, podrian no se representativos, y el intervalo de confianza esta muy alejado de la media  \")\n"
      ],
      "metadata": {
        "id": "y7DvG8cFhIR6",
        "outputId": "f2379563-e4b4-46fd-cd2f-3ce36d6a6cf5",
        "colab": {
          "base_uri": "https://localhost:8080/"
        }
      },
      "execution_count": 5,
      "outputs": [
        {
          "output_type": "stream",
          "name": "stdout",
          "text": [
            "a) Promedio muestral de defectos por vehículo: 1.27\n",
            "b) Desviación estándar de la muestra: 1.17\n",
            "c) Intervalo de confianza del 95% para la media de defectos por vehículo: (0.83, 1.70)\n",
            "Si, ya que son pocos datos, podrian no se representativos, y el intervalo de confianza esta muy alejado de la media  \n"
          ]
        }
      ]
    },
    {
      "cell_type": "markdown",
      "source": [
        "\n",
        "**Ejercicio** Un artículo que apareció en el ejemplar de noviembre de 1983 de *Consumer Reports* comparó varios tipos de baterías.  \n",
        "Se informó que los siguientes datos provienen de una muestra de 20 baterías (en horas de duración):\n",
        "$$ [2200, 2290, 2390, 2410, 2480, 2500, 2580, 2700, 2030, 2100, 2190, 1600, 1740, 1900, 1930, 2000, 1510, 1470, 1770, 1710] $$\n",
        "Determine la media muestral, la desviación estándar muestral, y el intervalo de confianza del **90%** para la media poblacional.\n"
      ],
      "metadata": {
        "id": "HfdM2EibhIpP"
      }
    },
    {
      "cell_type": "code",
      "source": [
        "import numpy as np\n",
        "import scipy.stats as st\n",
        "\n",
        "# Datos\n",
        "duracion_baterias = [2200, 2290, 2390, 2410, 2480, 2500, 2580, 2700, 2030, 2100, 2190, 1600, 1740, 1900, 1930, 2000, 1510, 1470, 1770, 1710]\n",
        "\n",
        "\n",
        "n = len(duracion_baterias)\n",
        "\n",
        "# a)\n",
        "media_muestral = np.mean(duracion_baterias)\n",
        "print(f\"a) Media muestral: {media_muestral:.2f}\")\n",
        "\n",
        "# b)\n",
        "desviacion_estandar = np.std(duracion_baterias, ddof=1)\n",
        "print(f\"b) Desviación estándar muestral: {desviacion_estandar:.2f}\")\n",
        "\n",
        "# c)\n",
        "confianza = 0.90\n",
        "gl = n - 1  # grados de libertad\n",
        "t_critico = st.t.ppf(1 - (1 - confianza) / 2, gl)  # t crítico para 90% de confianza\n",
        "error_estandar = desviacion_estandar / np.sqrt(n)\n",
        "margen_error = t_critico * error_estandar\n",
        "limite_inferior = media_muestral - margen_error\n",
        "limite_superior = media_muestral + margen_error\n",
        "print(f\"c) Intervalo de confianza del 90% para la media poblacional: ({limite_inferior:.2f}, {limite_superior:.2f})\")\n"
      ],
      "metadata": {
        "id": "FRKc7xh4hNbj",
        "outputId": "453cf120-9b17-45b3-c4dd-e09cc6b98a2c",
        "colab": {
          "base_uri": "https://localhost:8080/"
        }
      },
      "execution_count": 6,
      "outputs": [
        {
          "output_type": "stream",
          "name": "stdout",
          "text": [
            "a) Media muestral: 2075.00\n",
            "b) Desviación estándar muestral: 368.93\n",
            "c) Intervalo de confianza del 90% para la media poblacional: (1932.35, 2217.65)\n"
          ]
        }
      ]
    },
    {
      "cell_type": "markdown",
      "metadata": {
        "id": "DBQyaEKLGnwg"
      },
      "source": [
        "\n",
        "**Ejercicio** El toxafen es un insecticida que ha sido identificado como contaminante en el ecosistema de los Grandes Lagos.  \n",
        "Para investigar el efecto de la exposición al toxafen en animales, a grupos de ratas se les administró toxafen en su dieta.\n",
        "\n",
        "El artículo *\"Reproduction Study of Toxaphene in Rat\"* reporta **aumentos de peso (en gramos)** de ratas a las que se les administró una **dosis baja (4 ppm)** y de ratas de **control** cuya dieta no incluía el insecticida.\n",
        "\n",
        "- En el grupo **control**, una muestra de **23 ratas hembras** tuvo una media de **$\\bar{X_2} = 210$ g** y una desviación estándar de **32 g**.\n",
        "- En el grupo con **dosis baja**, una muestra de **20 ratas hembras** tuvo una media de **$\\bar{X_1} = 190$ g** y una desviación estándar de **54 g**.\n",
        "\n",
        "Encuentra un **intervalo de confianza del 90% para la diferencia de medias** poblacionales:  $\\mu_1 - \\mu_2$, donde:\n",
        "\n",
        "- $\\mu_1$ es la media poblacional de incremento de peso en el grupo con **dosis baja**.\n",
        "- $\\mu_2$ es la media poblacional de incremento de peso en el grupo **control**.\n",
        "\n",
        "¿Sugiere este intervalo que el toxafen **reduce** el incremento de peso en ratas?  \n",
        "¿Incluye el intervalo el valor 0? ¿Por qué es importante?\n"
      ]
    },
    {
      "cell_type": "code",
      "execution_count": 10,
      "metadata": {
        "id": "7TAhdeRmgx0D",
        "outputId": "2f4cfdc1-2c9e-4ac9-d525-fa023c52039e",
        "colab": {
          "base_uri": "https://localhost:8080/"
        }
      },
      "outputs": [
        {
          "output_type": "stream",
          "name": "stdout",
          "text": [
            "Diferencia de las medias: -20.00\n",
            "Intervalo de confianza del 90%: (-42.69, 2.69)\n",
            "Si, ya que el intervalo de confianza incluye muchos valores negativos, lo que sugiere que el toxafen reduce el incremento de peso en ratas. El hecho de que incluya el cero significa que existe un punto en el que no habría diferencia, por lo que no se puede concluir definitivamente que haya reducción en todos los casos.\n"
          ]
        }
      ],
      "source": [
        "import numpy as np\n",
        "import scipy.stats as st\n",
        "\n",
        "# Datos\n",
        "n1 = 20\n",
        "n2 = 23\n",
        "media1 = 190\n",
        "media2 = 210\n",
        "sigma1 = 54\n",
        "sigma2 = 32\n",
        "confianza = 0.90\n",
        "alpha = 1 - confianza\n",
        "\n",
        "# Valor crítico Z\n",
        "z = st.norm.ppf(1 - alpha / 2)\n",
        "\n",
        "# Error estándar de la diferencia de medias\n",
        "error_est = np.sqrt((sigma1**2 / n1) + (sigma2**2 / n2))\n",
        "\n",
        "# Diferencia de medias y margen de error\n",
        "dif_medias = media1 - media2\n",
        "margen_error = z * error_est\n",
        "\n",
        "# Límites del intervalo de confianza\n",
        "lim_inf = dif_medias - margen_error\n",
        "lim_sup = dif_medias + margen_error\n",
        "\n",
        "# Resultados\n",
        "print(f\"Diferencia de las medias: {dif_medias:.2f}\")\n",
        "print(f\"Intervalo de confianza del 90%: ({lim_inf:.2f}, {lim_sup:.2f})\")\n",
        "\n",
        "print(\"Si, ya que el intervalo de confianza incluye muchos valores negativos, lo que sugiere que el toxafen reduce el incremento de peso en ratas. El hecho de que incluya el cero significa que existe un punto en el que no habría diferencia, por lo que no se puede concluir definitivamente que haya reducción en todos los casos.\")\n"
      ]
    }
  ],
  "metadata": {
    "colab": {
      "provenance": []
    },
    "kernelspec": {
      "display_name": "Python [conda env:base] *",
      "language": "python",
      "name": "conda-base-py"
    },
    "language_info": {
      "codemirror_mode": {
        "name": "ipython",
        "version": 3
      },
      "file_extension": ".py",
      "mimetype": "text/x-python",
      "name": "python",
      "nbconvert_exporter": "python",
      "pygments_lexer": "ipython3",
      "version": "3.12.7"
    }
  },
  "nbformat": 4,
  "nbformat_minor": 0
}