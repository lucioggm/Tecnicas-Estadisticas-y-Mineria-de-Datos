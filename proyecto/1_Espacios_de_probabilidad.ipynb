{
  "cells": [
    {
      "cell_type": "markdown",
      "id": "c571062d-f6ab-4f85-85a1-951ed0eef832",
      "metadata": {
        "id": "c571062d-f6ab-4f85-85a1-951ed0eef832"
      },
      "source": [
        "# Espacio de probabilidad"
      ]
    },
    {
      "cell_type": "markdown",
      "id": "ab494890-cea1-47f8-97de-7f4de0ec4174",
      "metadata": {
        "id": "ab494890-cea1-47f8-97de-7f4de0ec4174"
      },
      "source": [
        "# 1 Probabilidad Laplaciana (clásica)\n",
        "\n",
        "\n",
        "\n",
        "En probabilidad trabajamos con **conjuntos**, que básicamente son colecciones de elementos. Cuando hablamos de un experimento aleatorio (como lanzar una moneda o un dado), el conjunto de **todos los posibles resultados** se llama **espacio muestral**, y se denota por $\\Omega$.\n",
        "\n",
        "Un **evento** es cualquier subconjunto de ese espacio muestral. Por ejemplo, si lanzamos una moneda 3 veces:\n",
        "\n",
        "- El espacio muestral sería todo lo que puede salir: {AAA, AAS, ASA, ASS, SAA, SAS, SSA, SSS}\n",
        "- Un evento puede ser \"salieron exactamente dos águilas\", o \"el primer lanzamiento fue sol\", etc.\n",
        "\n",
        "\n",
        "\n",
        "También usamos operaciones de conjuntos:\n",
        "\n",
        "\n",
        "- $A \\cap B$ es la intersección: resultados que están en **ambos** eventos.\n",
        "- $A \\cup B$ es la unión: resultados que están en **al menos uno** de los eventos.\n",
        "\n",
        "\n",
        "\n",
        "La fórmula clásica para calcular la probabilidad de un evento $A$ es:\n",
        "\n",
        "$$\n",
        "\\mathbb{P}(A) = \\frac{\\#A}{\\#\\Omega}\n",
        "$$\n",
        "\n",
        "Es decir, el número de casos favorables dividido por el número total de casos posibles.\n",
        "\n",
        "---\n",
        "\n",
        "### Ejemplo\n",
        "\n",
        "Vamos a lanzar una moneda **3 veces** de forma independiente (o sea, lo que salga en un lanzamiento no afecta a los otros).\n",
        "\n",
        "Entonces, el espacio muestral queda así:\n",
        "\n",
        "\n",
        "1.   Elemento de la lista\n",
        "2.   Elemento de la lista\n",
        "\n",
        "\n",
        "$$ \\Omega = \\{A,S\\} \\times \\{A,S\\} \\times \\{A,S\\} = \\{A,S\\}^3 $$\n",
        "y tenemos que $\\#\\Omega = 2^3$.\n",
        "\n",
        "Sean los eventos:\n",
        "* $A$: todos los resultados son águila\n",
        "* $S$: todos los resultados son soles\n",
        "* $E$: Por lo menos un resultado es sol\n",
        "  \n",
        "Calcular las probabilidades de estos eventos:\n",
        "\n",
        "**Solución** Vamos a descomponer mi conjunto $A$ de la siguiente manera:\n",
        "$$A = A_1 \\cap A_2 \\cap A_3 $$\n",
        "donde $A_i$: caé águila en el $i$-ésimo resultado."
      ]
    },
    {
      "cell_type": "code",
      "execution_count": 1,
      "id": "3f14bb3f-5cbf-432a-9482-a2fbb7201452",
      "metadata": {
        "id": "3f14bb3f-5cbf-432a-9482-a2fbb7201452",
        "outputId": "ab309811-8cff-4633-c3f4-23dfdcd6c99c",
        "colab": {
          "base_uri": "https://localhost:8080/"
        }
      },
      "outputs": [
        {
          "output_type": "execute_result",
          "data": {
            "text/plain": [
              "{('A', 'A', 'A'),\n",
              " ('A', 'A', 'S'),\n",
              " ('A', 'S', 'A'),\n",
              " ('A', 'S', 'S'),\n",
              " ('S', 'A', 'A'),\n",
              " ('S', 'A', 'S'),\n",
              " ('S', 'S', 'A'),\n",
              " ('S', 'S', 'S')}"
            ]
          },
          "metadata": {},
          "execution_count": 1
        }
      ],
      "source": [
        "# Vamos a crear el espacio muestral\n",
        "import itertools #importamos el modulo\n",
        "from itertools import product\n",
        "\n",
        "Omega = set( product({\"A\",\"S\"},repeat=3 ))\n",
        "Omega"
      ]
    },
    {
      "cell_type": "code",
      "execution_count": 2,
      "id": "2ddc618a-9fbd-4c4f-9882-9acef29830b3",
      "metadata": {
        "id": "2ddc618a-9fbd-4c4f-9882-9acef29830b3",
        "outputId": "89d940a6-8da6-4fb9-b4aa-0d33431462ab",
        "colab": {
          "base_uri": "https://localhost:8080/"
        }
      },
      "outputs": [
        {
          "output_type": "execute_result",
          "data": {
            "text/plain": [
              "8"
            ]
          },
          "metadata": {},
          "execution_count": 2
        }
      ],
      "source": [
        "len(Omega) # cardinalidad de Omega"
      ]
    },
    {
      "cell_type": "code",
      "execution_count": 3,
      "id": "3d9729e7-f4a9-4b56-b80b-ddb93f28bca6",
      "metadata": {
        "id": "3d9729e7-f4a9-4b56-b80b-ddb93f28bca6",
        "outputId": "9fd35de7-e192-49cd-b4b4-344cf8db84d5",
        "colab": {
          "base_uri": "https://localhost:8080/"
        }
      },
      "outputs": [
        {
          "output_type": "execute_result",
          "data": {
            "text/plain": [
              "{('A', 'A', 'A'), ('A', 'A', 'S'), ('A', 'S', 'A'), ('A', 'S', 'S')}"
            ]
          },
          "metadata": {},
          "execution_count": 3
        }
      ],
      "source": [
        "# Vamos a crear el evento A_1\n",
        "A_1 = { om for om in Omega if om[0]==\"A\"} # la primera coordenada es águila\n",
        "A_1"
      ]
    },
    {
      "cell_type": "code",
      "execution_count": 4,
      "id": "fd18265c-7d78-4594-bfbd-c83125602eee",
      "metadata": {
        "id": "fd18265c-7d78-4594-bfbd-c83125602eee",
        "outputId": "bfc487d5-4483-4c59-87d1-9760b1db6134",
        "colab": {
          "base_uri": "https://localhost:8080/"
        }
      },
      "outputs": [
        {
          "output_type": "execute_result",
          "data": {
            "text/plain": [
              "{('A', 'A', 'A'), ('A', 'A', 'S'), ('S', 'A', 'A'), ('S', 'A', 'S')}"
            ]
          },
          "metadata": {},
          "execution_count": 4
        }
      ],
      "source": [
        "# Vamos a crear el evento A_2\n",
        "A_2 = { om for om in Omega if om[1]==\"A\"} # la segunda coordenada es águila\n",
        "A_2"
      ]
    },
    {
      "cell_type": "code",
      "execution_count": 5,
      "id": "fcedf772-c10b-42eb-bcd1-2609e928b7f6",
      "metadata": {
        "id": "fcedf772-c10b-42eb-bcd1-2609e928b7f6",
        "outputId": "6dd826da-e4c3-4ee8-ac31-e04050c97331",
        "colab": {
          "base_uri": "https://localhost:8080/"
        }
      },
      "outputs": [
        {
          "output_type": "execute_result",
          "data": {
            "text/plain": [
              "{('A', 'A', 'A'), ('A', 'S', 'A'), ('S', 'A', 'A'), ('S', 'S', 'A')}"
            ]
          },
          "metadata": {},
          "execution_count": 5
        }
      ],
      "source": [
        "# Vamos a crear el evento A_3\n",
        "A_3 = { om for om in Omega if om[2]==\"A\"} # la tercera coordenada es águila\n",
        "A_3"
      ]
    },
    {
      "cell_type": "code",
      "execution_count": 6,
      "id": "3d2df1cd-fef2-4118-9e1b-684e29dec5df",
      "metadata": {
        "id": "3d2df1cd-fef2-4118-9e1b-684e29dec5df",
        "outputId": "bb285052-3bed-4db1-cbc0-71662362fa9c",
        "colab": {
          "base_uri": "https://localhost:8080/"
        }
      },
      "outputs": [
        {
          "output_type": "execute_result",
          "data": {
            "text/plain": [
              "{('A', 'A', 'A')}"
            ]
          },
          "metadata": {},
          "execution_count": 6
        }
      ],
      "source": [
        "# Vamos a crear el evento A\n",
        "A = A_1.intersection(A_2.intersection(A_3))\n",
        "A"
      ]
    },
    {
      "cell_type": "code",
      "execution_count": 7,
      "id": "1e85025c-737d-4d29-b537-ad1c974dc245",
      "metadata": {
        "id": "1e85025c-737d-4d29-b537-ad1c974dc245",
        "outputId": "a06ef261-ada6-4a3b-d952-341bf66e5486",
        "colab": {
          "base_uri": "https://localhost:8080/"
        }
      },
      "outputs": [
        {
          "output_type": "execute_result",
          "data": {
            "text/plain": [
              "1"
            ]
          },
          "metadata": {},
          "execution_count": 7
        }
      ],
      "source": [
        "len(A)"
      ]
    },
    {
      "cell_type": "code",
      "execution_count": 8,
      "id": "a9befcc4-9965-4dc1-8889-085a245bd099",
      "metadata": {
        "id": "a9befcc4-9965-4dc1-8889-085a245bd099",
        "outputId": "6adf9a20-81c3-4ff4-f0ec-fff4456102b7",
        "colab": {
          "base_uri": "https://localhost:8080/"
        }
      },
      "outputs": [
        {
          "output_type": "execute_result",
          "data": {
            "text/plain": [
              "0.125"
            ]
          },
          "metadata": {},
          "execution_count": 8
        }
      ],
      "source": [
        "# Vamos a calcular la probabilidad de A\n",
        "P_A = len(A) / len(Omega)\n",
        "P_A"
      ]
    },
    {
      "cell_type": "markdown",
      "id": "cd54a257-0e41-44ee-9304-f72ba089cbc0",
      "metadata": {
        "id": "cd54a257-0e41-44ee-9304-f72ba089cbc0"
      },
      "source": [
        " Para expresar el resultado en fraccion hacemos uso de la libreria fractions"
      ]
    },
    {
      "cell_type": "code",
      "execution_count": 9,
      "id": "d21ade82-1215-42ea-92b3-9752417cb12f",
      "metadata": {
        "id": "d21ade82-1215-42ea-92b3-9752417cb12f"
      },
      "outputs": [],
      "source": [
        "from fractions import Fraction\n",
        "\n",
        "def p(E,Omega):\n",
        "    p = Fraction(len(E),len(Omega))\n",
        "    return p"
      ]
    },
    {
      "cell_type": "code",
      "execution_count": 11,
      "id": "a78c395c-e87e-43da-83b1-ff947082d4f6",
      "metadata": {
        "id": "a78c395c-e87e-43da-83b1-ff947082d4f6",
        "outputId": "03457016-67cd-4f7b-9c92-c390c5f99dbe",
        "colab": {
          "base_uri": "https://localhost:8080/"
        }
      },
      "outputs": [
        {
          "output_type": "execute_result",
          "data": {
            "text/plain": [
              "Fraction(1, 8)"
            ]
          },
          "metadata": {},
          "execution_count": 11
        }
      ],
      "source": [
        "prob = p(A,Omega)\n",
        "prob"
      ]
    },
    {
      "cell_type": "markdown",
      "metadata": {
        "id": "db265941"
      },
      "source": [
        "Para calcular la probabilidad de $E$, que se define como el evento en el que por lo menos aparece una $S$ (sol), en la secuencia de lanzamientos.\n",
        "\n",
        "Para encontrar $E$, podemos pensar en el complemento de A, ya que en todos los demás casos aparece al menos un \"S\", entonces sería:"
      ],
      "id": "db265941"
    },
    {
      "cell_type": "code",
      "execution_count": 43,
      "metadata": {
        "colab": {
          "base_uri": "https://localhost:8080/"
        },
        "id": "6b571806",
        "outputId": "0a77dcd5-08ef-417e-d36b-a621364a7f06"
      },
      "outputs": [
        {
          "output_type": "execute_result",
          "data": {
            "text/plain": [
              "{('A', 'A', 'S'),\n",
              " ('A', 'S', 'A'),\n",
              " ('A', 'S', 'S'),\n",
              " ('S', 'A', 'A'),\n",
              " ('S', 'A', 'S'),\n",
              " ('S', 'S', 'A'),\n",
              " ('S', 'S', 'S')}"
            ]
          },
          "metadata": {},
          "execution_count": 43
        }
      ],
      "source": [
        "#Sacamos el complemento de A\n",
        "E = Omega - A\n",
        "E"
      ],
      "id": "6b571806"
    },
    {
      "cell_type": "code",
      "execution_count": 44,
      "metadata": {
        "colab": {
          "base_uri": "https://localhost:8080/"
        },
        "id": "fbb5f0c2",
        "outputId": "42665088-b2d6-4093-af04-4fb0ab90c551"
      },
      "outputs": [
        {
          "output_type": "execute_result",
          "data": {
            "text/plain": [
              "7"
            ]
          },
          "metadata": {},
          "execution_count": 44
        }
      ],
      "source": [
        "len(E)"
      ],
      "id": "fbb5f0c2"
    },
    {
      "cell_type": "code",
      "execution_count": 45,
      "metadata": {
        "colab": {
          "base_uri": "https://localhost:8080/"
        },
        "id": "a53f771e",
        "outputId": "3c7f8c92-5140-4c52-b220-8bf000ce9971"
      },
      "outputs": [
        {
          "output_type": "execute_result",
          "data": {
            "text/plain": [
              "0.875"
            ]
          },
          "metadata": {},
          "execution_count": 45
        }
      ],
      "source": [
        "# Vamos a calculamos la probailidad de S\n",
        "P_E = len(E)/len(Omega)\n",
        "P_E"
      ],
      "id": "a53f771e"
    },
    {
      "cell_type": "markdown",
      "metadata": {
        "id": "682932ac"
      },
      "source": [
        "Expresamos el resultado en fracción, esto se hace de la siguiente manera:"
      ],
      "id": "682932ac"
    },
    {
      "cell_type": "code",
      "execution_count": 39,
      "metadata": {
        "id": "f35536fa"
      },
      "outputs": [],
      "source": [
        "from fractions import Fraction\n",
        "\n",
        "def p(E,Omega):\n",
        "    p = Fraction(len(E),len(Omega))\n",
        "    return p"
      ],
      "id": "f35536fa"
    },
    {
      "cell_type": "code",
      "execution_count": 46,
      "metadata": {
        "colab": {
          "base_uri": "https://localhost:8080/"
        },
        "id": "7b21c564",
        "outputId": "1f861590-02df-4420-98ed-59d8b3c4a169"
      },
      "outputs": [
        {
          "output_type": "execute_result",
          "data": {
            "text/plain": [
              "Fraction(7, 8)"
            ]
          },
          "metadata": {},
          "execution_count": 46
        }
      ],
      "source": [
        "probE = p(E,Omega)\n",
        "probE"
      ],
      "id": "7b21c564"
    },
    {
      "cell_type": "markdown",
      "source": [
        "## Ejemplo: Probabilidad de sacar una carta de corazones\n",
        "\n",
        "De una baraja estándar de 52 cartas, ¿cuál es la probabilidad de sacar una carta del **palo de corazones**?\n",
        "\n",
        "Sabemos que:\n",
        "\n",
        "- Total de cartas = 52  \n",
        "- Cartas de corazones = 13\n",
        "\n",
        "Por lo tanto:\n",
        "\n",
        "$$\n",
        "\\mathbb{P}(\\text{corazones}) = \\frac{13}{52} = 0.25\n",
        "$$\n"
      ],
      "metadata": {
        "id": "pzf2AAghGx0w"
      },
      "id": "pzf2AAghGx0w"
    },
    {
      "cell_type": "markdown",
      "source": [
        "##Ejemplo: Probabilidad de sacar una carta de corazones\n",
        "\n",
        "De una baraja estándar de 52 cartas, ¿cuál es la probabilidad de sacar una carta del **palo de corazones**?\n",
        "\n",
        "Sabemos que:\n",
        "\n",
        "- Total de cartas = 52  \n",
        "- Cartas de corazones = 13\n",
        "\n",
        "Por lo tanto:\n",
        "\n",
        "$$\n",
        "\\mathbb{P}(\\text{corazones}) = \\frac{13}{52} = 0.25\n",
        "$$\n"
      ],
      "metadata": {
        "id": "uSxxsvc2G34q"
      },
      "id": "uSxxsvc2G34q"
    },
    {
      "cell_type": "code",
      "source": [
        "total = 52\n",
        "corazones = 13\n",
        "p = corazones / total\n",
        "print(f\"Probabilidad de sacar una carta de corazones: {p}\")\n"
      ],
      "metadata": {
        "colab": {
          "base_uri": "https://localhost:8080/"
        },
        "id": "eVScUNEUHEOF",
        "outputId": "6365977f-568f-4785-eb8f-7d029a4fa77f"
      },
      "id": "eVScUNEUHEOF",
      "execution_count": 54,
      "outputs": [
        {
          "output_type": "stream",
          "name": "stdout",
          "text": [
            "Probabilidad de sacar una carta de corazones: 0.25\n"
          ]
        }
      ]
    },
    {
      "cell_type": "markdown",
      "id": "74866fd8-1b0b-46bc-bd2b-f2ad88365b6c",
      "metadata": {
        "id": "74866fd8-1b0b-46bc-bd2b-f2ad88365b6c"
      },
      "source": [
        "---\n",
        " # Probabilidad condicional\n",
        "\n",
        "A veces nos interesa saber qué tan probable es que ocurra un evento **sabiendo que otro evento ya ocurrió**. Eso se conoce como **probabilidad condicional**.\n",
        "\n",
        "Se define la probabilidad de que ocurra un evento $A$ dado que ocurrió el evento $B$ como:\n",
        "\n",
        "$$\n",
        "\\mathbb{P}(A \\mid B) = \\frac{\\mathbb{P}(A \\cap B)}{\\mathbb{P}(B)} = \\frac{\\#(A \\cap B)}{\\#B}\n",
        "$$\n",
        "\n",
        "Siempre que $\\mathbb{P}(B) > 0$ (es decir, que $B$ sí pueda ocurrir).\n"
      ]
    },
    {
      "cell_type": "code",
      "execution_count": 13,
      "id": "beb84aa0-c61b-42fe-8046-c213d18e74e0",
      "metadata": {
        "id": "beb84aa0-c61b-42fe-8046-c213d18e74e0"
      },
      "outputs": [],
      "source": [
        "def prob_cond(E,F):\n",
        "    return len(E & F) / len(F)"
      ]
    },
    {
      "cell_type": "markdown",
      "id": "7c3e9e27-5620-41f0-b0b2-1d79c6da385b",
      "metadata": {
        "id": "7c3e9e27-5620-41f0-b0b2-1d79c6da385b"
      },
      "source": [
        "### Ejemplo\n",
        "\n",
        "Supongamos que lanzamos una moneda 3 veces, y queremos calcular la probabilidad condicional de los siguientes eventos:\n",
        "\n",
        "- $A$: el **primer lanzamiento** es **águila**\n",
        "- $B$: en total **dos de los lanzamientos** son **águila**\n",
        "\n"
      ]
    },
    {
      "cell_type": "code",
      "execution_count": 18,
      "id": "ce4ef43c-74ec-4c2a-b485-ae4a1553e189",
      "metadata": {
        "id": "ce4ef43c-74ec-4c2a-b485-ae4a1553e189",
        "outputId": "3c968be4-3d0c-4d79-cc1b-84cc262f4856",
        "colab": {
          "base_uri": "https://localhost:8080/"
        }
      },
      "outputs": [
        {
          "output_type": "execute_result",
          "data": {
            "text/plain": [
              "{('A', 'A', 'A'), ('A', 'A', 'S'), ('A', 'S', 'A'), ('A', 'S', 'S')}"
            ]
          },
          "metadata": {},
          "execution_count": 18
        }
      ],
      "source": [
        "# El primer lanzamiento es águila\n",
        "B = { om for om in Omega if om[0]==\"A\"} # el primer lanzamiento es águila\n",
        "B"
      ]
    },
    {
      "cell_type": "code",
      "execution_count": 14,
      "id": "9a4bb72c-b3fc-44a8-9de4-9f8922ea4863",
      "metadata": {
        "id": "9a4bb72c-b3fc-44a8-9de4-9f8922ea4863",
        "outputId": "f9434fd7-f922-42b1-9c13-907374269e16",
        "colab": {
          "base_uri": "https://localhost:8080/"
        }
      },
      "outputs": [
        {
          "output_type": "execute_result",
          "data": {
            "text/plain": [
              "{('A', 'A', 'S'), ('A', 'S', 'A'), ('S', 'A', 'A')}"
            ]
          },
          "metadata": {},
          "execution_count": 14
        }
      ],
      "source": [
        "C = { om for om in Omega if om.count(\"A\")==2}\n",
        "C"
      ]
    },
    {
      "cell_type": "code",
      "execution_count": 15,
      "id": "79783de8-4996-47ca-8c7b-998cc0a3cb0b",
      "metadata": {
        "id": "79783de8-4996-47ca-8c7b-998cc0a3cb0b"
      },
      "outputs": [],
      "source": [
        "def prob(E):\n",
        "    return len(E) / len(Omega)"
      ]
    },
    {
      "cell_type": "code",
      "execution_count": 19,
      "id": "caa6fda2-baf4-490d-96fe-e7be23ae77dd",
      "metadata": {
        "id": "caa6fda2-baf4-490d-96fe-e7be23ae77dd",
        "outputId": "4932ae17-813a-48b6-b0ea-1af76d591afb",
        "colab": {
          "base_uri": "https://localhost:8080/"
        }
      },
      "outputs": [
        {
          "output_type": "execute_result",
          "data": {
            "text/plain": [
              "0.5"
            ]
          },
          "metadata": {},
          "execution_count": 19
        }
      ],
      "source": [
        "prob(B)"
      ]
    },
    {
      "cell_type": "code",
      "execution_count": 20,
      "id": "497b8715-04b0-42ba-8f3a-5fdeb0d553d2",
      "metadata": {
        "id": "497b8715-04b0-42ba-8f3a-5fdeb0d553d2",
        "outputId": "17208acd-68ab-4727-e86c-b23a651c2b4d",
        "colab": {
          "base_uri": "https://localhost:8080/"
        }
      },
      "outputs": [
        {
          "output_type": "execute_result",
          "data": {
            "text/plain": [
              "0.375"
            ]
          },
          "metadata": {},
          "execution_count": 20
        }
      ],
      "source": [
        "prob(C)"
      ]
    },
    {
      "cell_type": "code",
      "execution_count": 21,
      "id": "397f3acb-4b48-4474-bc5e-04803d6399f3",
      "metadata": {
        "id": "397f3acb-4b48-4474-bc5e-04803d6399f3",
        "outputId": "7a2bacf0-f034-4de7-ebed-6d04ddeb9eb2",
        "colab": {
          "base_uri": "https://localhost:8080/"
        }
      },
      "outputs": [
        {
          "output_type": "execute_result",
          "data": {
            "text/plain": [
              "0.6666666666666666"
            ]
          },
          "metadata": {},
          "execution_count": 21
        }
      ],
      "source": [
        "prob_cond(B,C)"
      ]
    },
    {
      "cell_type": "markdown",
      "id": "70210fb0-52c2-43f4-8307-4a361afaec1d",
      "metadata": {
        "id": "70210fb0-52c2-43f4-8307-4a361afaec1d"
      },
      "source": [
        "## Independencia de eventos\n",
        "\n",
        "Dos eventos $A$ y $B$ se dicen **independientes** si lo que pase con uno **no afecta** la probabilidad del otro.\n",
        "\n",
        "Formalmente, esto se cumple si:\n",
        "\n",
        "$$\n",
        "\\mathbb{P}(A \\cap B) = \\mathbb{P}(A) \\cdot \\mathbb{P}(B)\n",
        "$$\n",
        "\n",
        "Otra forma de verlo es con la probabilidad condicional:\n",
        "\n",
        "$$\n",
        "\\mathbb{P}(A \\mid B) = \\mathbb{P}(A)\n",
        "$$\n",
        "\n",
        "Esto significa que, aunque sepamos que $B$ ocurrió, la probabilidad de que ocurra $A$ **no cambia**.\n"
      ]
    },
    {
      "cell_type": "code",
      "execution_count": 23,
      "id": "c93e040a-a312-4282-88e3-e40b83fc5b73",
      "metadata": {
        "id": "c93e040a-a312-4282-88e3-e40b83fc5b73"
      },
      "outputs": [],
      "source": [
        "def indep(E,F):\n",
        "    return prob(E & F) == prob(E)*prob(F)"
      ]
    },
    {
      "cell_type": "code",
      "execution_count": 24,
      "id": "a6f68f77-d64b-41ef-b0c1-0972170e5c53",
      "metadata": {
        "id": "a6f68f77-d64b-41ef-b0c1-0972170e5c53",
        "outputId": "c4c5c593-60cc-4ab7-c302-aa5deb185673",
        "colab": {
          "base_uri": "https://localhost:8080/"
        }
      },
      "outputs": [
        {
          "output_type": "execute_result",
          "data": {
            "text/plain": [
              "False"
            ]
          },
          "metadata": {},
          "execution_count": 24
        }
      ],
      "source": [
        "indep(B,C)"
      ]
    },
    {
      "cell_type": "markdown",
      "id": "7b7eb4fe-0c7e-49ab-b6c1-172921670c3e",
      "metadata": {
        "id": "7b7eb4fe-0c7e-49ab-b6c1-172921670c3e"
      },
      "source": [
        "Vamos a considerar el evento:\n",
        "* $D$: en el segundo lanzamiento es sol"
      ]
    },
    {
      "cell_type": "code",
      "execution_count": 25,
      "id": "9dec2962-4089-4f30-b590-7016b18554b2",
      "metadata": {
        "id": "9dec2962-4089-4f30-b590-7016b18554b2",
        "outputId": "94b0ca49-107b-4272-db48-935dd2dee136",
        "colab": {
          "base_uri": "https://localhost:8080/"
        }
      },
      "outputs": [
        {
          "output_type": "execute_result",
          "data": {
            "text/plain": [
              "{('A', 'S', 'A'), ('A', 'S', 'S'), ('S', 'S', 'A'), ('S', 'S', 'S')}"
            ]
          },
          "metadata": {},
          "execution_count": 25
        }
      ],
      "source": [
        "D = { om for om in Omega if om[1]==\"S\"}\n",
        "D"
      ]
    },
    {
      "cell_type": "code",
      "execution_count": 26,
      "id": "0926a76f-9b09-4ab8-9f77-df2b1b199729",
      "metadata": {
        "id": "0926a76f-9b09-4ab8-9f77-df2b1b199729",
        "outputId": "6454f95a-d908-4ff4-9e9e-c277ce329a10",
        "colab": {
          "base_uri": "https://localhost:8080/"
        }
      },
      "outputs": [
        {
          "output_type": "execute_result",
          "data": {
            "text/plain": [
              "0.5"
            ]
          },
          "metadata": {},
          "execution_count": 26
        }
      ],
      "source": [
        "prob(D)"
      ]
    },
    {
      "cell_type": "code",
      "execution_count": 27,
      "id": "6d286f4c-53dc-42c7-ae18-876b2a4e8598",
      "metadata": {
        "id": "6d286f4c-53dc-42c7-ae18-876b2a4e8598",
        "outputId": "d0c7effe-82fd-4dcb-999f-d12af1b73eff",
        "colab": {
          "base_uri": "https://localhost:8080/"
        }
      },
      "outputs": [
        {
          "output_type": "execute_result",
          "data": {
            "text/plain": [
              "0.5"
            ]
          },
          "metadata": {},
          "execution_count": 27
        }
      ],
      "source": [
        "prob_cond(B,D)"
      ]
    },
    {
      "cell_type": "code",
      "execution_count": 28,
      "id": "ae753237-681d-4814-a52c-c6e144aeff23",
      "metadata": {
        "id": "ae753237-681d-4814-a52c-c6e144aeff23",
        "outputId": "929cb423-237b-455a-f726-884d3aef1048",
        "colab": {
          "base_uri": "https://localhost:8080/"
        }
      },
      "outputs": [
        {
          "output_type": "execute_result",
          "data": {
            "text/plain": [
              "True"
            ]
          },
          "metadata": {},
          "execution_count": 28
        }
      ],
      "source": [
        "indep(B,D)"
      ]
    },
    {
      "cell_type": "markdown",
      "id": "2e825327-e276-41ab-8060-74ea018b2795",
      "metadata": {
        "id": "2e825327-e276-41ab-8060-74ea018b2795"
      },
      "source": [
        "Quiero verificar si $B$, $C$ y $D$ son independientes:"
      ]
    },
    {
      "cell_type": "code",
      "execution_count": 29,
      "id": "a6e1cd15-f8a0-4e65-a702-b193465a6d46",
      "metadata": {
        "id": "a6e1cd15-f8a0-4e65-a702-b193465a6d46",
        "outputId": "0d380fae-30c4-4de7-aa74-fa05b6767a2e",
        "colab": {
          "base_uri": "https://localhost:8080/"
        }
      },
      "outputs": [
        {
          "output_type": "execute_result",
          "data": {
            "text/plain": [
              "True"
            ]
          },
          "metadata": {},
          "execution_count": 29
        }
      ],
      "source": [
        "indep(B,D)"
      ]
    },
    {
      "cell_type": "code",
      "execution_count": 30,
      "id": "932765f3-9213-4bd0-8a9e-2297a1930cdb",
      "metadata": {
        "id": "932765f3-9213-4bd0-8a9e-2297a1930cdb",
        "outputId": "f6e937be-40dd-4499-f1b6-fe1e1e975d7c",
        "colab": {
          "base_uri": "https://localhost:8080/"
        }
      },
      "outputs": [
        {
          "output_type": "execute_result",
          "data": {
            "text/plain": [
              "False"
            ]
          },
          "metadata": {},
          "execution_count": 30
        }
      ],
      "source": [
        "indep(C,D)"
      ]
    },
    {
      "cell_type": "code",
      "execution_count": 31,
      "id": "9ce5f203-98f5-4f7d-9ab1-e3b7ecf4321c",
      "metadata": {
        "id": "9ce5f203-98f5-4f7d-9ab1-e3b7ecf4321c",
        "outputId": "98566d90-66c9-4f1f-832c-0c714ef12ab0",
        "colab": {
          "base_uri": "https://localhost:8080/"
        }
      },
      "outputs": [
        {
          "output_type": "execute_result",
          "data": {
            "text/plain": [
              "False"
            ]
          },
          "metadata": {},
          "execution_count": 31
        }
      ],
      "source": [
        "indep(B,C)"
      ]
    },
    {
      "cell_type": "markdown",
      "id": "9924a382-4b17-4c26-a35f-ad057f797f3d",
      "metadata": {
        "id": "9924a382-4b17-4c26-a35f-ad057f797f3d"
      },
      "source": [
        "Por lo tanto, los eventos no son independientes.\n",
        "\n",
        "---"
      ]
    },
    {
      "cell_type": "markdown",
      "id": "b668990b-e924-412f-b5e4-4ef27e5b2072",
      "metadata": {
        "id": "b668990b-e924-412f-b5e4-4ef27e5b2072"
      },
      "source": [
        "**EJEMPLO** Sea el experimento aleatorio de lanzar un dado dos veces. Sabemos que el espacio muestral es el siguiente:\n",
        "$$ \\Omega = \\{ (i,j) | i,j \\in \\{1,2,3,4,5,6 \\} \\} = \\{1,2,3,4,5,6 \\} \\times \\{1,2,3,4,5,6 \\} = \\{1,2,3,4,5,6 \\}^2$$\n",
        "y además $\\#\\Omega = 6^2 = 36$"
      ]
    },
    {
      "cell_type": "code",
      "execution_count": 33,
      "id": "800de47d-67c1-427b-b04e-50a7a6cdf251",
      "metadata": {
        "id": "800de47d-67c1-427b-b04e-50a7a6cdf251",
        "outputId": "4d985f4f-e0ca-498d-c853-9cafe2561e4b",
        "colab": {
          "base_uri": "https://localhost:8080/"
        }
      },
      "outputs": [
        {
          "output_type": "execute_result",
          "data": {
            "text/plain": [
              "{(1, 1),\n",
              " (1, 2),\n",
              " (1, 3),\n",
              " (1, 4),\n",
              " (1, 5),\n",
              " (1, 6),\n",
              " (2, 1),\n",
              " (2, 2),\n",
              " (2, 3),\n",
              " (2, 4),\n",
              " (2, 5),\n",
              " (2, 6),\n",
              " (3, 1),\n",
              " (3, 2),\n",
              " (3, 3),\n",
              " (3, 4),\n",
              " (3, 5),\n",
              " (3, 6),\n",
              " (4, 1),\n",
              " (4, 2),\n",
              " (4, 3),\n",
              " (4, 4),\n",
              " (4, 5),\n",
              " (4, 6),\n",
              " (5, 1),\n",
              " (5, 2),\n",
              " (5, 3),\n",
              " (5, 4),\n",
              " (5, 5),\n",
              " (5, 6),\n",
              " (6, 1),\n",
              " (6, 2),\n",
              " (6, 3),\n",
              " (6, 4),\n",
              " (6, 5),\n",
              " (6, 6)}"
            ]
          },
          "metadata": {},
          "execution_count": 33
        }
      ],
      "source": [
        "Omega_dado =  set( product([1,2,3,4,5,6],repeat=2 ))\n",
        "Omega_dado"
      ]
    },
    {
      "cell_type": "code",
      "execution_count": 34,
      "id": "09d06f20-69ba-4d30-b2ad-1312f40ca58e",
      "metadata": {
        "id": "09d06f20-69ba-4d30-b2ad-1312f40ca58e",
        "outputId": "e6be1eb5-4b5f-4b0e-ff1c-e57b7e35de89",
        "colab": {
          "base_uri": "https://localhost:8080/"
        }
      },
      "outputs": [
        {
          "output_type": "execute_result",
          "data": {
            "text/plain": [
              "36"
            ]
          },
          "metadata": {},
          "execution_count": 34
        }
      ],
      "source": [
        "cardOm = len(Omega_dado)\n",
        "cardOm"
      ]
    },
    {
      "cell_type": "markdown",
      "id": "ae1e04c1-6e96-4770-b6fd-aff5822b3702",
      "metadata": {
        "id": "ae1e04c1-6e96-4770-b6fd-aff5822b3702"
      },
      "source": [
        "Definimos el evento:\n",
        "* $S_n$: la suma de los dados en $n$\n",
        "y escrito como conjunto es\n",
        "$$ S_n = \\{ (i,j)\\in\\Omega \\mid i+j = n \\}$$"
      ]
    },
    {
      "cell_type": "code",
      "execution_count": 35,
      "id": "6814536b-69ab-4bac-bb1a-437a447aa93f",
      "metadata": {
        "id": "6814536b-69ab-4bac-bb1a-437a447aa93f"
      },
      "outputs": [],
      "source": [
        "def S(n):\n",
        "    Sn = { (i,j) for i in range(1,7) for j in range(1,7) if i+j == n }\n",
        "    return Sn"
      ]
    },
    {
      "cell_type": "code",
      "execution_count": 37,
      "id": "9cbbef8a-f404-4755-b9a6-262817a5f297",
      "metadata": {
        "id": "9cbbef8a-f404-4755-b9a6-262817a5f297",
        "colab": {
          "base_uri": "https://localhost:8080/"
        },
        "outputId": "6ad5fb79-3e7b-4a28-ca50-602f48d3f7af"
      },
      "outputs": [
        {
          "output_type": "execute_result",
          "data": {
            "text/plain": [
              "{(3, 6), (4, 5), (5, 4), (6, 3)}"
            ]
          },
          "metadata": {},
          "execution_count": 37
        }
      ],
      "source": [
        "S_nueve = S(9)\n",
        "S_nueve\n"
      ]
    },
    {
      "cell_type": "code",
      "execution_count": 38,
      "id": "f91b63ec-143f-4655-9b25-4f8e80d8217f",
      "metadata": {
        "id": "f91b63ec-143f-4655-9b25-4f8e80d8217f",
        "outputId": "2ac3b0a9-5a5f-4813-d161-3aca39490c6a",
        "colab": {
          "base_uri": "https://localhost:8080/"
        }
      },
      "outputs": [
        {
          "output_type": "execute_result",
          "data": {
            "text/plain": [
              "0.1111111111111111"
            ]
          },
          "metadata": {},
          "execution_count": 38
        }
      ],
      "source": [
        "len(S_nueve) / cardOm"
      ]
    },
    {
      "cell_type": "markdown",
      "id": "943998ac-1712-43b9-bc2e-697a6b4d5ba2",
      "metadata": {
        "id": "943998ac-1712-43b9-bc2e-697a6b4d5ba2"
      },
      "source": [
        "$$ \\mathbb{P}(S(9)) = 4/36 $$"
      ]
    },
    {
      "cell_type": "markdown",
      "source": [
        "---\n",
        "\n",
        "# 2 Probabilidad Geométrica\n",
        "\n",
        "La **probabilidad geométrica** es un caso de probabilidad continua, en el cual el espacio muestral es un conjunto de puntos en una línea, plano o en un espacio de más dimensiones. En este tipo de probabilidad, el evento ocurre dentro de un intervalo específico del espacio muestral, y la probabilidad se calcula como la relación entre la medida del intervalo favorable y la medida total del espacio muestral.\n",
        "\n",
        "La fórmula general para la probabilidad geométrica es:\n",
        "\n",
        "$$\n",
        "\\mathbb{P}(A) = \\frac{\\text{Longitud o área del evento favorable}}{\\text{Longitud o área total del espacio muestral}}\n",
        "$$\n",
        "\n",
        "Si el espacio muestral es el intervalo \\( [0, 1] \\), entonces la probabilidad de que una variable aleatoria  X  tome un valor menor que $a$ donde $ 0 \\leq a \\leq 1 $ es:\n",
        "\n",
        "$$\n",
        "\\mathbb{P}(X < a) = a\n",
        "$$\n",
        "\n",
        "Esto se debe a que la longitud del intervalo favorable es \\( a \\), y la longitud total del intervalo es 1.\n",
        "\n",
        "En general, si se trata de un espacio muestral continuo en cualquier intervalo \\( [a, b] \\), la probabilidad de que \\( X \\) esté dentro de un subintervalo \\( [c, d] \\), con \\( a \\leq c \\leq d \\leq b \\), se calcula como:\n",
        "\n",
        "$$\n",
        "\\mathbb{P}(c \\leq X \\leq d) = \\frac{d - c}{b - a}\n",
        "$$\n"
      ],
      "metadata": {
        "id": "plwLU9lqB4tm"
      },
      "id": "plwLU9lqB4tm"
    },
    {
      "cell_type": "markdown",
      "source": [
        "# Ejemplo: Problema del Encuentro\n",
        "\n",
        "Dos personas acuerdan encontrarse entre las 0 y 60 minutos, y cada una espera 15 minutos. ¿Cuál es la probabilidad de que se encuentren?\n",
        "\n",
        "Definimos:\n",
        "\n",
        "- \\( X \\): Hora de llegada de la persona A  \n",
        "- \\( Y \\): Hora de llegada de la persona B  \n",
        "\n",
        "El espacio muestral es un cuadrado de \\( [0, 60] \\times [0, 60] \\).\n",
        "\n",
        "El **evento favorable** es que la diferencia entre sus tiempos de llegada sea menor o igual a 15 minutos, es decir:\n",
        "\n",
        "$$\n",
        "|X - Y| \\leq 15\n",
        "$$\n",
        "\n",
        "### Cálculo de la probabilidad\n",
        "\n",
        "El área total del cuadrado es:\n",
        "\n",
        "$$\n",
        "60 \\times 60 = 3600\n",
        "$$\n",
        "\n",
        "El área fuera del evento favorable (donde no se encuentran) es:\n",
        "\n",
        "$$\n",
        "2025\n",
        "$$\n",
        "\n",
        "Entonces, el área favorable es:\n",
        "\n",
        "$$\n",
        "3600 - 2025 = 1575\n",
        "$$\n",
        "\n",
        "La probabilidad de que se encuentren es:\n",
        "\n",
        "$$\n",
        "\\mathbb{P}(\\text{encuentro}) = \\frac{1575}{3600} = \\frac{7}{16} = 0.4375\n",
        "$$\n",
        "\n",
        "\n"
      ],
      "metadata": {
        "id": "_KtWXxfaDBhh"
      },
      "id": "_KtWXxfaDBhh"
    },
    {
      "cell_type": "markdown",
      "source": [
        "\n",
        " ## Usando python para resolver"
      ],
      "metadata": {
        "id": "Uek2fkZLF4C7"
      },
      "id": "Uek2fkZLF4C7"
    },
    {
      "cell_type": "code",
      "source": [
        "# Cálculo de la probabilidad geométrica del problema del encuentro\n",
        "total = 60 * 60\n",
        "no_encuentro = 2 * ((60 - 15) ** 2) / 2\n",
        "encuentro = total - no_encuentro\n",
        "p = encuentro / total\n",
        "print(f\"Probabilidad de encuentro: {p:.4f}\")\n"
      ],
      "metadata": {
        "colab": {
          "base_uri": "https://localhost:8080/"
        },
        "id": "y81i3DPuFpJR",
        "outputId": "56a84f84-771d-4ebe-e4c3-5b8704276003"
      },
      "id": "y81i3DPuFpJR",
      "execution_count": 53,
      "outputs": [
        {
          "output_type": "stream",
          "name": "stdout",
          "text": [
            "Probabilidad de encuentro: 0.4375\n"
          ]
        }
      ]
    },
    {
      "cell_type": "markdown",
      "source": [
        "---\n",
        "# 3 Probabilidad frecuentista\n",
        "\n",
        "Otra forma de entender la probabilidad es desde un enfoque **frecuentista**, que se basa en observar **cuántas veces ocurre un evento** al repetir un experimento muchas veces.\n",
        "\n",
        "Supongamos que repetimos un experimento aleatorio $n$ veces y queremos analizar un evento $A$. Si denotamos por $n(A)$ el número de veces que ocurrió el evento $A$ en esas $n$ repeticiones, entonces podemos definir la **frecuencia relativa** de $A$ como:\n",
        "\n",
        "$$\n",
        "f_n(A) = \\frac{n(A)}{n}\n",
        "$$\n",
        "\n",
        "Esta cantidad representa la proporción de veces que ocurrió $A$.\n",
        "\n",
        "---\n",
        "\n",
        "La **probabilidad frecuentista** de $A$ se define como el valor al que se aproxima esa frecuencia relativa cuando hacemos el experimento una cantidad **muy grande** de veces:\n",
        "\n",
        "$$\n",
        "\\mathbb{P}(A) = \\lim_{n \\to \\infty} \\frac{n(A)}{n}\n",
        "$$\n",
        "\n",
        "Este enfoque supone que el espacio muestral es **finito**, y que podemos repetir el experimento indefinidamente para estimar las probabilidades a partir de los datos observados.\n",
        "\n",
        "---\n",
        "\n",
        "### Limitaciones del enfoque frecuentista\n",
        "\n",
        "Es importante hacer notar que **no es humanamente posible** realizar un experimento infinitas veces. En la práctica, siempre tendremos un número finito de repeticiones. Por lo tanto, aunque la probabilidad frecuentista nos da una idea intuitiva de cómo se comporta la probabilidad a largo plazo, no es posible obtenerla con exactitud mediante este mecanismo en un entorno real.\n",
        "\n",
        "Esto significa que, en la práctica, las estimaciones de probabilidad se basan en **muestras finitas** y pueden estar sujetas a cierto **margen de error**.\n",
        "\n",
        "\n"
      ],
      "metadata": {
        "id": "1MRU7SU07em6"
      },
      "id": "1MRU7SU07em6"
    },
    {
      "cell_type": "markdown",
      "source": [
        "Ejemplo:\n",
        "\n",
        "Imaginemos que lanzamos una moneda \"injusta\", es decir, con una probabilidad de obtener \"sol\" diferente de 0.5 (digamos, 0.4 para este caso). Vamos a simular estos lanzamientos y calcular la probabilidad frecuentista de que salga \"sol\".\n",
        "\n"
      ],
      "metadata": {
        "id": "gY7Ac4OL9fye"
      },
      "id": "gY7Ac4OL9fye"
    },
    {
      "cell_type": "code",
      "execution_count": 52,
      "metadata": {
        "id": "876c24d9-eec7-4f71-a3fe-6f7f0445250e",
        "colab": {
          "base_uri": "https://localhost:8080/"
        },
        "outputId": "018adbf6-19f5-43dd-e1db-5f880b87e71a"
      },
      "outputs": [
        {
          "output_type": "stream",
          "name": "stdout",
          "text": [
            "Lanzamientos: ['aguila', 'aguila', 'aguila', 'sol', 'sol', 'sol', 'sol', 'sol', 'aguila', 'sol']\n",
            "Número de soles: 6\n",
            "Probabilidad promedio de 'sol' en los 1000 experimentos: 0.630\n"
          ]
        }
      ],
      "source": [
        "import random\n",
        "\n",
        "# Función que simula el lanzamiento de una moneda injusta\n",
        "def volado(p):\n",
        "    return 'sol' if random.random() < p else 'aguila'\n",
        "\n",
        "# Realizamos un ejemplo con 10 lanzamientos de la moneda\n",
        "a = [volado(0.4) for i in range(10)]\n",
        "print(\"Lanzamientos:\", a)\n",
        "\n",
        "# Contamos cuántos 'sol' salieron\n",
        "n_soles = a.count(\"sol\")\n",
        "print(\"Número de soles:\", n_soles)\n",
        "\n",
        "# Vamos a simular nuestra probabilidad frecuentista\n",
        "p = []  # Lista para almacenar las probabilidades de cada experimento\n",
        "\n",
        "for i in range(1000):  # Simula 1000 experimentos\n",
        "    N = 1000  # Número de lanzamientos en cada experimento\n",
        "    resultados = []\n",
        "\n",
        "    # Realiza los N lanzamientos en cada experimento\n",
        "    for i in range(N):\n",
        "        resultado = volado(0.63)  # Usamos una probabilidad de 0.63 para 'sol'\n",
        "        resultados.append(resultado)\n",
        "\n",
        "    # Cuenta cuántos 'sol' han salido en este experimento\n",
        "    n_soles = resultados.count(\"sol\")\n",
        "\n",
        "    # Calcula la proporción de 'sol' en los lanzamientos\n",
        "    p_soles = n_soles / N\n",
        "    p.append(p_soles)\n",
        "\n",
        "# Calculamos la probabilidad promedio de 'sol' en los 1000 experimentos\n",
        "p_soles_prom = sum(p) / 1000\n",
        "\n",
        "print(\"Probabilidad promedio de 'sol' en los 1000 experimentos: {:.3f}\".format(p_soles_prom))\n"
      ],
      "id": "876c24d9-eec7-4f71-a3fe-6f7f0445250e"
    }
  ],
  "metadata": {
    "kernelspec": {
      "display_name": "Python [conda env:base] *",
      "language": "python",
      "name": "conda-base-py"
    },
    "language_info": {
      "codemirror_mode": {
        "name": "ipython",
        "version": 3
      },
      "file_extension": ".py",
      "mimetype": "text/x-python",
      "name": "python",
      "nbconvert_exporter": "python",
      "pygments_lexer": "ipython3",
      "version": "3.12.7"
    },
    "colab": {
      "provenance": []
    }
  },
  "nbformat": 4,
  "nbformat_minor": 5
}